{
 "cells": [
  {
   "cell_type": "code",
   "execution_count": 6,
   "id": "5498d553",
   "metadata": {},
   "outputs": [
    {
     "name": "stdout",
     "output_type": "stream",
     "text": [
      "(1, 2, 3, 4, 5)\n",
      "(1, 2, 3, 4, 5, 6, 7, 8)\n"
     ]
    }
   ],
   "source": [
    "#1\n",
    "t = (1,2,3,4,5) \n",
    "print(t)\n",
    "t = t + (6,7,8,)\n",
    "print(t)"
   ]
  },
  {
   "cell_type": "code",
   "execution_count": 8,
   "id": "dab888c8",
   "metadata": {},
   "outputs": [
    {
     "name": "stdout",
     "output_type": "stream",
     "text": [
      "55\n"
     ]
    }
   ],
   "source": [
    "#2\n",
    "L=[1,2,3,4,5,6,7,8,9,10]\n",
    "sum=0\n",
    "for i in L:\n",
    "    sum+=i\n",
    "print(sum)    "
   ]
  },
  {
   "cell_type": "code",
   "execution_count": 3,
   "id": "f6ec269d",
   "metadata": {},
   "outputs": [
    {
     "name": "stdout",
     "output_type": "stream",
     "text": [
      "3628800\n"
     ]
    }
   ],
   "source": [
    "#3\n",
    "L=[1,2,3,4,5,6,7,8,9,10]\n",
    "mul=1\n",
    "for i in L:\n",
    "    mul*=i\n",
    "print(mul)    "
   ]
  },
  {
   "cell_type": "code",
   "execution_count": 6,
   "id": "ed77b00d",
   "metadata": {},
   "outputs": [
    {
     "name": "stdout",
     "output_type": "stream",
     "text": [
      "The smallest number is  3\n"
     ]
    }
   ],
   "source": [
    "#4\n",
    "L=[9,4,6,7,9,4,19,14,3,5,17]\n",
    "min_num=L[0]\n",
    "for i in range(len(L)):\n",
    "    if L[i] < min_num:\n",
    "        min_num = L[i] \n",
    " \n",
    "print(\"The smallest number is \",min_num)"
   ]
  },
  {
   "cell_type": "code",
   "execution_count": 7,
   "id": "0efe83c9",
   "metadata": {},
   "outputs": [
    {
     "name": "stdout",
     "output_type": "stream",
     "text": [
      "The largest number is  19\n"
     ]
    }
   ],
   "source": [
    "#5\n",
    "L=[9,4,6,7,9,4,19,14,3,5,17]\n",
    "max_num=L[0]\n",
    "for i in range(len(L)):\n",
    "    if L[i] > max_num:\n",
    "        max_num = L[i] \n",
    " \n",
    "print(\"The largest number is \",max_num)"
   ]
  },
  {
   "cell_type": "code",
   "execution_count": 13,
   "id": "f84b575a",
   "metadata": {},
   "outputs": [
    {
     "name": "stdout",
     "output_type": "stream",
     "text": [
      "6\n"
     ]
    }
   ],
   "source": [
    "#6\n",
    "L=[\"ahmed\",\"zeyad\",\"mostafa\",\"morcos\",\"mohamed\",\"alaa\"]\n",
    "counter = 0\n",
    "for i in L:\n",
    "    counter+=1\n",
    "print(counter)    "
   ]
  },
  {
   "cell_type": "code",
   "execution_count": 14,
   "id": "bd5a0dd5",
   "metadata": {},
   "outputs": [
    {
     "name": "stdout",
     "output_type": "stream",
     "text": [
      "[1, 2, 3, 4, 5]\n",
      "[1, 2, 3, 4, 5]\n"
     ]
    }
   ],
   "source": [
    "#7\n",
    "L1=[1,2,3,4,5]\n",
    "print(L1)\n",
    "L2=L1[:]\n",
    "print(L2)"
   ]
  },
  {
   "cell_type": "code",
   "execution_count": 17,
   "id": "1bcd0028",
   "metadata": {},
   "outputs": [
    {
     "name": "stdout",
     "output_type": "stream",
     "text": [
      "{0, 1, 2, 3, 4, 5}\n",
      "{1, 2, 3, 4, 5}\n"
     ]
    }
   ],
   "source": [
    "#8\n",
    "s={0,1,2,3,4,5}\n",
    "print(s)\n",
    "s.pop()\n",
    "print(s)"
   ]
  },
  {
   "cell_type": "code",
   "execution_count": 19,
   "id": "f509fa64",
   "metadata": {},
   "outputs": [
    {
     "name": "stdout",
     "output_type": "stream",
     "text": [
      "True\n"
     ]
    }
   ],
   "source": [
    "#9\n",
    "A={1,2,3,4,5,6}\n",
    "B={1,3,5}\n",
    "print(B.issubset(A))"
   ]
  },
  {
   "cell_type": "code",
   "execution_count": 20,
   "id": "f7a970f6",
   "metadata": {},
   "outputs": [
    {
     "name": "stdout",
     "output_type": "stream",
     "text": [
      "{0, 1, 2, 3, 4, 5}\n",
      "set()\n"
     ]
    }
   ],
   "source": [
    "#10\n",
    "s={0,1,2,3,4,5}\n",
    "print(s)\n",
    "s.clear()\n",
    "print(s)"
   ]
  },
  {
   "cell_type": "code",
   "execution_count": 23,
   "id": "d890c86a",
   "metadata": {},
   "outputs": [
    {
     "name": "stdout",
     "output_type": "stream",
     "text": [
      "The largest number is  27\n",
      "The smallest number is  2\n"
     ]
    }
   ],
   "source": [
    "#11\n",
    "s={7,4,8,3,9,11,2,15,27,6,14}\n",
    "L=list(s)\n",
    "min_num=L[0]\n",
    "max_num=L[0]\n",
    "for i in range(len(L)):\n",
    "    if L[i] > max_num:\n",
    "        max_num = L[i] \n",
    " \n",
    "print(\"The largest number is \",max_num)\n",
    "\n",
    "for i in range(len(L)):\n",
    "    if L[i] < min_num:\n",
    "        min_num = L[i] \n",
    " \n",
    "print(\"The smallest number is \",min_num)"
   ]
  },
  {
   "cell_type": "code",
   "execution_count": 28,
   "id": "200f6da6",
   "metadata": {},
   "outputs": [
    {
     "name": "stdout",
     "output_type": "stream",
     "text": [
      "e\n",
      "1\n"
     ]
    }
   ],
   "source": [
    "#12\n",
    "t=(\"z\",\"e\",\"y\",\"a\",\"d\")\n",
    "index = t.index(input())\n",
    "print(index)\n"
   ]
  },
  {
   "cell_type": "code",
   "execution_count": 29,
   "id": "3ed46f93",
   "metadata": {},
   "outputs": [
    {
     "name": "stdout",
     "output_type": "stream",
     "text": [
      "((1, 'z'), (2, 'e'), (3, 'a'))\n",
      "{1: 'z', 2: 'e', 3: 'a'}\n"
     ]
    }
   ],
   "source": [
    "#13\n",
    "T= ((1, \"z\"), (2, \"e\"), (3, \"a\"))\n",
    "D= dict((x, y) for x, y in T)\n",
    "print(T)\n",
    "print(D)"
   ]
  },
  {
   "cell_type": "code",
   "execution_count": 35,
   "id": "6d5520b6",
   "metadata": {},
   "outputs": [
    {
     "name": "stdout",
     "output_type": "stream",
     "text": [
      "[1, 2, 3]\n",
      "[4, 5, 6]\n",
      "[7, 8, 9]\n"
     ]
    }
   ],
   "source": [
    "#14\n",
    "T = ((1,2,3), (4,5,6), (7,8,9))\n",
    "for i in T:\n",
    "    print(list(i))\n"
   ]
  },
  {
   "cell_type": "code",
   "execution_count": 37,
   "id": "945479e4",
   "metadata": {},
   "outputs": [
    {
     "name": "stdout",
     "output_type": "stream",
     "text": [
      "(1, 2, 3, 4, 5, 6)\n",
      "(6, 5, 4, 3, 2, 1)\n"
     ]
    }
   ],
   "source": [
    "#15\n",
    "T=(1,2,3,4,5,6)\n",
    "print(T)\n",
    "print(T[::-1])"
   ]
  },
  {
   "cell_type": "code",
   "execution_count": 54,
   "id": "5572a4f4",
   "metadata": {
    "collapsed": true
   },
   "outputs": [
    {
     "name": "stderr",
     "output_type": "stream",
     "text": [
      "<>:2: SyntaxWarning: 'tuple' object is not callable; perhaps you missed a comma?\n",
      "<>:2: SyntaxWarning: 'tuple' object is not callable; perhaps you missed a comma?\n",
      "C:\\Users\\Dell\\AppData\\Local\\Temp\\ipykernel_14008\\536959547.py:2: SyntaxWarning: 'tuple' object is not callable; perhaps you missed a comma?\n",
      "  L=[(1, \"z\"), (2, \"e\"), (3, \"y\")(4, \"a\"), (5, \"d\")]\n"
     ]
    },
    {
     "ename": "TypeError",
     "evalue": "'tuple' object is not callable",
     "output_type": "error",
     "traceback": [
      "\u001b[1;31m---------------------------------------------------------------------------\u001b[0m",
      "\u001b[1;31mTypeError\u001b[0m                                 Traceback (most recent call last)",
      "Cell \u001b[1;32mIn[54], line 2\u001b[0m\n\u001b[0;32m      1\u001b[0m \u001b[38;5;66;03m#16\u001b[39;00m\n\u001b[1;32m----> 2\u001b[0m L\u001b[38;5;241m=\u001b[39m[(\u001b[38;5;241m1\u001b[39m, \u001b[38;5;124m\"\u001b[39m\u001b[38;5;124mz\u001b[39m\u001b[38;5;124m\"\u001b[39m), (\u001b[38;5;241m2\u001b[39m, \u001b[38;5;124m\"\u001b[39m\u001b[38;5;124me\u001b[39m\u001b[38;5;124m\"\u001b[39m), (\u001b[38;5;241m3\u001b[39m, \u001b[38;5;124m\"\u001b[39m\u001b[38;5;124my\u001b[39m\u001b[38;5;124m\"\u001b[39m)(\u001b[38;5;241m4\u001b[39m, \u001b[38;5;124m\"\u001b[39m\u001b[38;5;124ma\u001b[39m\u001b[38;5;124m\"\u001b[39m), (\u001b[38;5;241m5\u001b[39m, \u001b[38;5;124m\"\u001b[39m\u001b[38;5;124md\u001b[39m\u001b[38;5;124m\"\u001b[39m)]\n\u001b[0;32m      3\u001b[0m \u001b[38;5;28;01mfor\u001b[39;00m i \u001b[38;5;129;01min\u001b[39;00m L:\n\u001b[0;32m      4\u001b[0m     D\u001b[38;5;241m=\u001b[39m \u001b[38;5;28mdict\u001b[39m((x, y) \u001b[38;5;28;01mfor\u001b[39;00m (x, y) \u001b[38;5;129;01min\u001b[39;00m L)\n",
      "\u001b[1;31mTypeError\u001b[0m: 'tuple' object is not callable"
     ]
    }
   ],
   "source": [
    "#16\n",
    "L=[(1, \"z\"), (2, \"e\"), (3, \"y\")(4, \"a\"), (5, \"d\")]\n",
    "for i in L:\n",
    "    D= dict((x, y) for x, y in L)\n",
    "    print(D)    "
   ]
  },
  {
   "cell_type": "code",
   "execution_count": 47,
   "id": "093adef6",
   "metadata": {},
   "outputs": [
    {
     "name": "stdout",
     "output_type": "stream",
     "text": [
      "[(10, 20, 40), (40, 50, 60), (70, 80, 90)]\n",
      "[(10, 20, 100), (40, 50, 100), (70, 80, 100)]\n"
     ]
    }
   ],
   "source": [
    "#17\n",
    "L = [(10, 20, 40), (40, 50, 60), (70, 80, 90)]\n",
    "print(L)\n",
    "print([t[:-1] + (100,) for t in L])"
   ]
  },
  {
   "cell_type": "code",
   "execution_count": 52,
   "id": "329fe857",
   "metadata": {},
   "outputs": [
    {
     "name": "stdout",
     "output_type": "stream",
     "text": [
      "[('e', '3.75'), ('y', '4.87'), ('z', '5.67'), ('a', '8.98'), ('d', '13.43')]\n"
     ]
    }
   ],
   "source": [
    "#18\n",
    "L = [('z', '5.67'), ('e', '3.75'), ('y', '4.87'), ('a', '8.98'), ('d', '13.43')]\n",
    "print( sorted(L, key=lambda x: float(x[1])))"
   ]
  }
 ],
 "metadata": {
  "kernelspec": {
   "display_name": "Python 3 (ipykernel)",
   "language": "python",
   "name": "python3"
  },
  "language_info": {
   "codemirror_mode": {
    "name": "ipython",
    "version": 3
   },
   "file_extension": ".py",
   "mimetype": "text/x-python",
   "name": "python",
   "nbconvert_exporter": "python",
   "pygments_lexer": "ipython3",
   "version": "3.11.4"
  }
 },
 "nbformat": 4,
 "nbformat_minor": 5
}
