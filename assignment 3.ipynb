{
 "cells": [
  {
   "cell_type": "code",
   "execution_count": 34,
   "id": "46c48dd2",
   "metadata": {},
   "outputs": [
    {
     "name": "stdout",
     "output_type": "stream",
     "text": [
      "Fibonacci sequence:\n",
      "0\n",
      "1\n",
      "1\n",
      "2\n",
      "3\n"
     ]
    }
   ],
   "source": [
    "#1\n",
    "def recur_fibo(n):\n",
    "    if n <= 1:\n",
    "        return n\n",
    "    else:\n",
    "        return(recur_fibo(n-1) + recur_fibo(n-2))\n",
    "\n",
    "nterms = 5\n",
    "\n",
    "# check if the number of terms is valid\n",
    "if nterms <= 0:\n",
    "    print(\"Plese enter a positive integer\")\n",
    "else:\n",
    "    print(\"Fibonacci sequence:\")\n",
    "    for i in range(nterms):\n",
    "        print(recur_fibo(i))"
   ]
  },
  {
   "cell_type": "code",
   "execution_count": 33,
   "id": "52cf26b6",
   "metadata": {},
   "outputs": [
    {
     "name": "stdout",
     "output_type": "stream",
     "text": [
      "7\n"
     ]
    }
   ],
   "source": [
    "fibonacci(5)"
   ]
  },
  {
   "cell_type": "code",
   "execution_count": 9,
   "id": "7f8e9e6b",
   "metadata": {},
   "outputs": [],
   "source": [
    "#2\n",
    "def word_count(words):\n",
    "    word_set = set(words)\n",
    "    word_counts = {}\n",
    "    for word in word_set:\n",
    "        word_counts[word] = words.count(word)\n",
    "    return word_counts\n"
   ]
  },
  {
   "cell_type": "code",
   "execution_count": 12,
   "id": "a1dfd7fd",
   "metadata": {},
   "outputs": [
    {
     "name": "stdout",
     "output_type": "stream",
     "text": [
      "{'x': 1, 'a': 2, 'z': 3, 'f': 1, 'b': 2}\n"
     ]
    }
   ],
   "source": [
    "words = ['z', 'a', 'z', 'b', 'b',  'a','z','f','x']\n",
    "print(word_count(words))"
   ]
  },
  {
   "cell_type": "code",
   "execution_count": 36,
   "id": "ea745182",
   "metadata": {},
   "outputs": [],
   "source": [
    "#3\n",
    "def find_pairs(list1, target_sum):\n",
    "    pairs = []\n",
    "    for i in range(len(list1)):\n",
    "        for j in range(i + 1, len(list1)):\n",
    "            if list1[i] + list1[j] == target_sum:\n",
    "                pairs.append((list1[i], list1[j]))\n",
    "    return pairs\n"
   ]
  },
  {
   "cell_type": "code",
   "execution_count": 37,
   "id": "0e512be0",
   "metadata": {},
   "outputs": [
    {
     "name": "stdout",
     "output_type": "stream",
     "text": [
      "[(1, 9), (2, 8), (3, 7), (4, 6)]\n"
     ]
    }
   ],
   "source": [
    "x=find_pairs([1,2,3,4,5,6,7,8,9] , 10) \n",
    "print(x)"
   ]
  },
  {
   "cell_type": "code",
   "execution_count": 55,
   "id": "cfa19297",
   "metadata": {},
   "outputs": [],
   "source": [
    "#4\n",
    "def find_max_product_pair(nums):\n",
    "    max_product = nums[0] * nums[1]\n",
    "    for i in range(1, len(nums)):\n",
    "        for j in range(i):\n",
    "            product = nums[i] * nums[j]\n",
    "            if product > max_product:\n",
    "                max_product = product\n",
    "    return nums[j] , nums[i]\n"
   ]
  },
  {
   "cell_type": "code",
   "execution_count": 56,
   "id": "86d1a541",
   "metadata": {},
   "outputs": [
    {
     "name": "stdout",
     "output_type": "stream",
     "text": [
      "(8, 9)\n"
     ]
    }
   ],
   "source": [
    "x=find_max_product_pair([1,2,3,4,5,6,7,8,9])\n",
    "print(x)"
   ]
  },
  {
   "cell_type": "code",
   "execution_count": 5,
   "id": "a84174cb",
   "metadata": {},
   "outputs": [],
   "source": [
    "#5\n",
    "def is_prime(number):\n",
    "    for i in range(2, int(number ** 0.5) + 1):\n",
    "        if number % i == 0:\n",
    "            print(number,\"is not a prime number\")\n",
    "        else:\n",
    "            print(number,\"is a prime number\")\n",
    "            \n"
   ]
  },
  {
   "cell_type": "code",
   "execution_count": 10,
   "id": "414420c8",
   "metadata": {},
   "outputs": [
    {
     "name": "stdout",
     "output_type": "stream",
     "text": [
      "7 is a prime number\n",
      "6 is not a prime number\n"
     ]
    }
   ],
   "source": [
    "x=is_prime(7)\n",
    "y=is_prime(6)"
   ]
  },
  {
   "cell_type": "code",
   "execution_count": 11,
   "id": "f546e271",
   "metadata": {},
   "outputs": [],
   "source": [
    "#6\n",
    "def even_nums(numbers):\n",
    "    for number in numbers:\n",
    "        if number % 2 == 0:\n",
    "            print(number)"
   ]
  },
  {
   "cell_type": "code",
   "execution_count": 12,
   "id": "107d0781",
   "metadata": {},
   "outputs": [
    {
     "name": "stdout",
     "output_type": "stream",
     "text": [
      "2\n",
      "4\n",
      "6\n",
      "8\n",
      "10\n"
     ]
    }
   ],
   "source": [
    "x=even_nums([1,2,3,4,5,6,7,8,9,10])"
   ]
  },
  {
   "cell_type": "code",
   "execution_count": 16,
   "id": "76cd3f7b",
   "metadata": {},
   "outputs": [],
   "source": [
    "#7\n",
    "def rev(string):\n",
    "    words = string.split()\n",
    "    words.reverse()\n",
    "    reversed_string = ' '.join(words)\n",
    "    print(reversed_string)\n"
   ]
  },
  {
   "cell_type": "code",
   "execution_count": 17,
   "id": "8f71f12d",
   "metadata": {},
   "outputs": [
    {
     "name": "stdout",
     "output_type": "stream",
     "text": [
      "zeyad is name my hello\n"
     ]
    }
   ],
   "source": [
    "x=rev(\" hello my name is zeyad\")"
   ]
  },
  {
   "cell_type": "code",
   "execution_count": 29,
   "id": "35b8eb1f",
   "metadata": {},
   "outputs": [],
   "source": [
    "#8\n",
    "def palindrome(number):\n",
    "    num=str(number)\n",
    "    if num == num[::-1]:\n",
    "        print(\"true\")\n",
    "    else:\n",
    "        print(\"false\")\n",
    "    "
   ]
  },
  {
   "cell_type": "code",
   "execution_count": 33,
   "id": "c8b0e899",
   "metadata": {},
   "outputs": [
    {
     "name": "stdout",
     "output_type": "stream",
     "text": [
      "true\n",
      "false\n",
      "false\n"
     ]
    }
   ],
   "source": [
    "x=palindrome(121)\n",
    "x=palindrome(-121)\n",
    "x=palindrome(10)"
   ]
  },
  {
   "cell_type": "code",
   "execution_count": 34,
   "id": "8d7f49f6",
   "metadata": {},
   "outputs": [],
   "source": [
    "#9\n",
    "def palindrome(string):\n",
    "    if string == string[::-1]:\n",
    "        print(\"true\")\n",
    "    else:\n",
    "        print(\"false\")\n",
    "    "
   ]
  },
  {
   "cell_type": "code",
   "execution_count": 35,
   "id": "8aa4e8a5",
   "metadata": {},
   "outputs": [
    {
     "name": "stdout",
     "output_type": "stream",
     "text": [
      "false\n",
      "true\n"
     ]
    }
   ],
   "source": [
    "x=palindrome(\"zeyad\")\n",
    "x=palindrome(\"aya\")"
   ]
  },
  {
   "cell_type": "code",
   "execution_count": 36,
   "id": "a7854099",
   "metadata": {},
   "outputs": [],
   "source": [
    "#10\n",
    "def squares_of_numbers(start, end):\n",
    "    numbers = list(range(start, end + 1))\n",
    "\n",
    "    squares = [number * number for number in numbers]\n",
    " \n",
    "    print(squares)\n",
    "\n",
    "\n"
   ]
  },
  {
   "cell_type": "code",
   "execution_count": 37,
   "id": "ff75892c",
   "metadata": {},
   "outputs": [
    {
     "name": "stdout",
     "output_type": "stream",
     "text": [
      "[1, 4, 9, 16, 25, 36, 49, 64, 81, 100, 121, 144, 169, 196, 225, 256, 289, 324, 361, 400, 441, 484, 529, 576, 625, 676, 729, 784, 841, 900]\n"
     ]
    }
   ],
   "source": [
    "x=squares_of_numbers(1,30)"
   ]
  },
  {
   "cell_type": "code",
   "execution_count": 15,
   "id": "d693e027",
   "metadata": {},
   "outputs": [
    {
     "name": "stdout",
     "output_type": "stream",
     "text": [
      "['1', '2', '3']\n",
      "['1', '3', '2']\n",
      "['2', '1', '3']\n",
      "['2', '3', '1']\n",
      "['3', '1', '2']\n",
      "['3', '2', '1']\n"
     ]
    }
   ],
   "source": [
    "#11\n",
    "def permutation(myList):\n",
    "    if len(myList) == 0:\n",
    "        return []\n",
    "\n",
    "    if len(myList) == 1:\n",
    "        return [myList]\n",
    "    k = []\n",
    "\n",
    "\n",
    "    for i in range(len(myList)):\n",
    "        m = myList[i]\n",
    "        res = myList[:i] + myList[i+1:]\n",
    "        for p in permutation(res):\n",
    "            k.append([m] + p)\n",
    "    return k\n",
    "\n",
    "\n",
    "myList = list('123')\n",
    "for p in permutation(myList):\n",
    "    print (p)"
   ]
  },
  {
   "cell_type": "code",
   "execution_count": 7,
   "id": "0bae9598",
   "metadata": {},
   "outputs": [
    {
     "name": "stdout",
     "output_type": "stream",
     "text": [
      "this is the inner function\n"
     ]
    }
   ],
   "source": [
    "#12\n",
    "def outer_function():\n",
    "    def inner_function():\n",
    "        print(\"this is the inner function\")\n",
    "    inner_function()\n",
    "\n",
    "\n",
    "outer_function()"
   ]
  }
 ],
 "metadata": {
  "kernelspec": {
   "display_name": "Python 3 (ipykernel)",
   "language": "python",
   "name": "python3"
  },
  "language_info": {
   "codemirror_mode": {
    "name": "ipython",
    "version": 3
   },
   "file_extension": ".py",
   "mimetype": "text/x-python",
   "name": "python",
   "nbconvert_exporter": "python",
   "pygments_lexer": "ipython3",
   "version": "3.11.4"
  }
 },
 "nbformat": 4,
 "nbformat_minor": 5
}
