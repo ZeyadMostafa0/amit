{
 "cells": [
  {
   "cell_type": "code",
   "execution_count": 5,
   "id": "1f942906-67bd-4353-a28e-affd6b456500",
   "metadata": {},
   "outputs": [
    {
     "name": "stdout",
     "output_type": "stream",
     "text": [
      "My name is Zeyad and my age is 21 and  i am 1.85 meters , Pet:True\n"
     ]
    }
   ],
   "source": [
    "#Excercise 1\n",
    "Name = \"Zeyad\"\n",
    "Age = 21\n",
    "height = \"1.85 meters\"\n",
    "Pet = True\n",
    "print(\"My name is {} and my age is {} and  i am {} , Pet:{}\".format(Name,Age,height, Pet) )"
   ]
  },
  {
   "cell_type": "code",
   "execution_count": 34,
   "id": "9c730ed0",
   "metadata": {},
   "outputs": [
    {
     "name": "stdout",
     "output_type": "stream",
     "text": [
      "Enter the number:-6\n",
      "-6 is a Negative number\n"
     ]
    }
   ],
   "source": [
    "#Excercise 2\n",
    "x= int(input(\"Enter the number:\"))\n",
    "\n",
    "if x <0:\n",
    "    print(x , \"is a Negative number\")\n",
    "elif x % 2 == 0:\n",
    "    print(x ,\"is Even\")\n",
    "else:\n",
    "    print(x ,\"is Odd\")    \n",
    "    "
   ]
  },
  {
   "cell_type": "code",
   "execution_count": 32,
   "id": "918d184d",
   "metadata": {},
   "outputs": [
    {
     "name": "stdout",
     "output_type": "stream",
     "text": [
      "1\n",
      "2\n",
      "3\n",
      "4\n",
      "5\n",
      "6\n",
      "7\n",
      "8\n",
      "9\n",
      "10\n"
     ]
    }
   ],
   "source": [
    "#Excercise 3\n",
    "#1\n",
    "for i in range(1,11):\n",
    "    print(i)\n",
    "    "
   ]
  },
  {
   "cell_type": "code",
   "execution_count": 18,
   "id": "69c103ff",
   "metadata": {},
   "outputs": [
    {
     "name": "stdout",
     "output_type": "stream",
     "text": [
      "2\n",
      "4\n",
      "6\n",
      "8\n",
      "10\n",
      "12\n",
      "14\n",
      "16\n",
      "18\n",
      "20\n"
     ]
    }
   ],
   "source": [
    "#2\n",
    "for i in range(2,22,2):\n",
    "    print(i)"
   ]
  },
  {
   "cell_type": "code",
   "execution_count": 2,
   "id": "b9985bfc",
   "metadata": {
    "collapsed": true
   },
   "outputs": [
    {
     "name": "stdout",
     "output_type": "stream",
     "text": [
      "10\n",
      "9\n",
      "8\n",
      "7\n",
      "6\n",
      "5\n",
      "4\n",
      "3\n",
      "2\n",
      "1\n",
      "Blastoff!\n"
     ]
    }
   ],
   "source": [
    "#3\n",
    "x=11\n",
    "while (x!=1):\n",
    "    x=x-1\n",
    "    print(x)\n",
    "print(\"Blastoff!\")    \n",
    "    "
   ]
  },
  {
   "cell_type": "code",
   "execution_count": 6,
   "id": "533c08f7",
   "metadata": {},
   "outputs": [
    {
     "name": "stdout",
     "output_type": "stream",
     "text": [
      "mango\n",
      "banana\n",
      "bluberry\n",
      "cherry\n",
      "strawberry\n",
      "peach\n",
      "grapes\n"
     ]
    }
   ],
   "source": [
    "#Excercise 4\n",
    "L=[\"mango\",\"banana\",\"bluberry\",\"cherry\",\"strawberry\",\"peach\",\"grapes\"]\n",
    "for i in L:\n",
    "    print(i)"
   ]
  }
 ],
 "metadata": {
  "kernelspec": {
   "display_name": "Python 3 (ipykernel)",
   "language": "python",
   "name": "python3"
  },
  "language_info": {
   "codemirror_mode": {
    "name": "ipython",
    "version": 3
   },
   "file_extension": ".py",
   "mimetype": "text/x-python",
   "name": "python",
   "nbconvert_exporter": "python",
   "pygments_lexer": "ipython3",
   "version": "3.11.4"
  }
 },
 "nbformat": 4,
 "nbformat_minor": 5
}
